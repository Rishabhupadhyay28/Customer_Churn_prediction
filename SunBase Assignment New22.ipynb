{
 "cells": [
  {
   "cell_type": "markdown",
   "id": "325211be",
   "metadata": {},
   "source": [
    "# Importing Libraries"
   ]
  },
  {
   "cell_type": "code",
   "execution_count": 1,
   "id": "a43b1b12",
   "metadata": {},
   "outputs": [],
   "source": [
    "import pandas as pd\n",
    "import numpy as np "
   ]
  },
  {
   "cell_type": "markdown",
   "id": "9497c1bc",
   "metadata": {},
   "source": [
    "# *Importing Dataset*"
   ]
  },
  {
   "cell_type": "code",
   "execution_count": 65,
   "id": "eefe2e48",
   "metadata": {},
   "outputs": [],
   "source": [
    "data=pd.read_excel(\"C:\\\\Users\\\\Lenovo\\\\OneDrive\\\\Desktop\\\\customer_churn_large_dataset.xlsx\")"
   ]
  },
  {
   "cell_type": "markdown",
   "id": "30834116",
   "metadata": {},
   "source": [
    "## Data Study"
   ]
  },
  {
   "cell_type": "code",
   "execution_count": 66,
   "id": "c2344c2d",
   "metadata": {},
   "outputs": [
    {
     "data": {
      "text/html": [
       "<div>\n",
       "<style scoped>\n",
       "    .dataframe tbody tr th:only-of-type {\n",
       "        vertical-align: middle;\n",
       "    }\n",
       "\n",
       "    .dataframe tbody tr th {\n",
       "        vertical-align: top;\n",
       "    }\n",
       "\n",
       "    .dataframe thead th {\n",
       "        text-align: right;\n",
       "    }\n",
       "</style>\n",
       "<table border=\"1\" class=\"dataframe\">\n",
       "  <thead>\n",
       "    <tr style=\"text-align: right;\">\n",
       "      <th></th>\n",
       "      <th>CustomerID</th>\n",
       "      <th>Name</th>\n",
       "      <th>Age</th>\n",
       "      <th>Gender</th>\n",
       "      <th>Location</th>\n",
       "      <th>Subscription_Length_Months</th>\n",
       "      <th>Monthly_Bill</th>\n",
       "      <th>Total_Usage_GB</th>\n",
       "      <th>Churn</th>\n",
       "    </tr>\n",
       "  </thead>\n",
       "  <tbody>\n",
       "    <tr>\n",
       "      <th>0</th>\n",
       "      <td>1</td>\n",
       "      <td>Customer_1</td>\n",
       "      <td>63</td>\n",
       "      <td>Male</td>\n",
       "      <td>Los Angeles</td>\n",
       "      <td>17</td>\n",
       "      <td>73.36</td>\n",
       "      <td>236</td>\n",
       "      <td>0</td>\n",
       "    </tr>\n",
       "    <tr>\n",
       "      <th>1</th>\n",
       "      <td>2</td>\n",
       "      <td>Customer_2</td>\n",
       "      <td>62</td>\n",
       "      <td>Female</td>\n",
       "      <td>New York</td>\n",
       "      <td>1</td>\n",
       "      <td>48.76</td>\n",
       "      <td>172</td>\n",
       "      <td>0</td>\n",
       "    </tr>\n",
       "    <tr>\n",
       "      <th>2</th>\n",
       "      <td>3</td>\n",
       "      <td>Customer_3</td>\n",
       "      <td>24</td>\n",
       "      <td>Female</td>\n",
       "      <td>Los Angeles</td>\n",
       "      <td>5</td>\n",
       "      <td>85.47</td>\n",
       "      <td>460</td>\n",
       "      <td>0</td>\n",
       "    </tr>\n",
       "    <tr>\n",
       "      <th>3</th>\n",
       "      <td>4</td>\n",
       "      <td>Customer_4</td>\n",
       "      <td>36</td>\n",
       "      <td>Female</td>\n",
       "      <td>Miami</td>\n",
       "      <td>3</td>\n",
       "      <td>97.94</td>\n",
       "      <td>297</td>\n",
       "      <td>1</td>\n",
       "    </tr>\n",
       "    <tr>\n",
       "      <th>4</th>\n",
       "      <td>5</td>\n",
       "      <td>Customer_5</td>\n",
       "      <td>46</td>\n",
       "      <td>Female</td>\n",
       "      <td>Miami</td>\n",
       "      <td>19</td>\n",
       "      <td>58.14</td>\n",
       "      <td>266</td>\n",
       "      <td>0</td>\n",
       "    </tr>\n",
       "  </tbody>\n",
       "</table>\n",
       "</div>"
      ],
      "text/plain": [
       "   CustomerID        Name  Age  Gender     Location  \\\n",
       "0           1  Customer_1   63    Male  Los Angeles   \n",
       "1           2  Customer_2   62  Female     New York   \n",
       "2           3  Customer_3   24  Female  Los Angeles   \n",
       "3           4  Customer_4   36  Female        Miami   \n",
       "4           5  Customer_5   46  Female        Miami   \n",
       "\n",
       "   Subscription_Length_Months  Monthly_Bill  Total_Usage_GB  Churn  \n",
       "0                          17         73.36             236      0  \n",
       "1                           1         48.76             172      0  \n",
       "2                           5         85.47             460      0  \n",
       "3                           3         97.94             297      1  \n",
       "4                          19         58.14             266      0  "
      ]
     },
     "execution_count": 66,
     "metadata": {},
     "output_type": "execute_result"
    }
   ],
   "source": [
    "data.head()"
   ]
  },
  {
   "cell_type": "code",
   "execution_count": 67,
   "id": "ba3aa70e",
   "metadata": {},
   "outputs": [
    {
     "data": {
      "text/plain": [
       "100000"
      ]
     },
     "execution_count": 67,
     "metadata": {},
     "output_type": "execute_result"
    }
   ],
   "source": [
    "data['Name'].nunique()"
   ]
  },
  {
   "cell_type": "code",
   "execution_count": 68,
   "id": "f859c3a1",
   "metadata": {},
   "outputs": [
    {
     "data": {
      "text/plain": [
       "(100000, 9)"
      ]
     },
     "execution_count": 68,
     "metadata": {},
     "output_type": "execute_result"
    }
   ],
   "source": [
    "data.shape"
   ]
  },
  {
   "cell_type": "code",
   "execution_count": 69,
   "id": "41d6de95",
   "metadata": {},
   "outputs": [
    {
     "data": {
      "text/plain": [
       "Female    50216\n",
       "Male      49784\n",
       "Name: Gender, dtype: int64"
      ]
     },
     "execution_count": 69,
     "metadata": {},
     "output_type": "execute_result"
    }
   ],
   "source": [
    "data['Gender'].value_counts()"
   ]
  },
  {
   "cell_type": "code",
   "execution_count": 70,
   "id": "285c9e3b",
   "metadata": {},
   "outputs": [
    {
     "data": {
      "text/plain": [
       "Houston        20157\n",
       "Los Angeles    20041\n",
       "Miami          20031\n",
       "Chicago        19958\n",
       "New York       19813\n",
       "Name: Location, dtype: int64"
      ]
     },
     "execution_count": 70,
     "metadata": {},
     "output_type": "execute_result"
    }
   ],
   "source": [
    "data['Location'].value_counts()"
   ]
  },
  {
   "cell_type": "code",
   "execution_count": 71,
   "id": "f32998df",
   "metadata": {},
   "outputs": [
    {
     "data": {
      "text/plain": [
       "1"
      ]
     },
     "execution_count": 71,
     "metadata": {},
     "output_type": "execute_result"
    }
   ],
   "source": [
    "data['Subscription_Length_Months'].min()"
   ]
  },
  {
   "cell_type": "code",
   "execution_count": 72,
   "id": "fa286ae3",
   "metadata": {},
   "outputs": [
    {
     "data": {
      "text/plain": [
       "0    50221\n",
       "1    49779\n",
       "Name: Churn, dtype: int64"
      ]
     },
     "execution_count": 72,
     "metadata": {},
     "output_type": "execute_result"
    }
   ],
   "source": [
    "data['Churn'].value_counts()"
   ]
  },
  {
   "cell_type": "markdown",
   "id": "d0b92528",
   "metadata": {},
   "source": [
    "# Checking missing values"
   ]
  },
  {
   "cell_type": "code",
   "execution_count": 73,
   "id": "f9a12132",
   "metadata": {},
   "outputs": [
    {
     "data": {
      "text/plain": [
       "CustomerID                    0\n",
       "Name                          0\n",
       "Age                           0\n",
       "Gender                        0\n",
       "Location                      0\n",
       "Subscription_Length_Months    0\n",
       "Monthly_Bill                  0\n",
       "Total_Usage_GB                0\n",
       "Churn                         0\n",
       "dtype: int64"
      ]
     },
     "execution_count": 73,
     "metadata": {},
     "output_type": "execute_result"
    }
   ],
   "source": [
    "data.isnull().sum()"
   ]
  },
  {
   "cell_type": "markdown",
   "id": "11d5c8c4",
   "metadata": {},
   "source": [
    "### We can see from above result that there are no missing values so no Imputation is required"
   ]
  },
  {
   "cell_type": "code",
   "execution_count": 74,
   "id": "b5b75f6b",
   "metadata": {},
   "outputs": [
    {
     "data": {
      "text/html": [
       "<div>\n",
       "<style scoped>\n",
       "    .dataframe tbody tr th:only-of-type {\n",
       "        vertical-align: middle;\n",
       "    }\n",
       "\n",
       "    .dataframe tbody tr th {\n",
       "        vertical-align: top;\n",
       "    }\n",
       "\n",
       "    .dataframe thead th {\n",
       "        text-align: right;\n",
       "    }\n",
       "</style>\n",
       "<table border=\"1\" class=\"dataframe\">\n",
       "  <thead>\n",
       "    <tr style=\"text-align: right;\">\n",
       "      <th></th>\n",
       "      <th>CustomerID</th>\n",
       "      <th>Age</th>\n",
       "      <th>Subscription_Length_Months</th>\n",
       "      <th>Monthly_Bill</th>\n",
       "      <th>Total_Usage_GB</th>\n",
       "      <th>Churn</th>\n",
       "    </tr>\n",
       "  </thead>\n",
       "  <tbody>\n",
       "    <tr>\n",
       "      <th>count</th>\n",
       "      <td>100000.000000</td>\n",
       "      <td>100000.000000</td>\n",
       "      <td>100000.000000</td>\n",
       "      <td>100000.000000</td>\n",
       "      <td>100000.000000</td>\n",
       "      <td>100000.000000</td>\n",
       "    </tr>\n",
       "    <tr>\n",
       "      <th>mean</th>\n",
       "      <td>50000.500000</td>\n",
       "      <td>44.027020</td>\n",
       "      <td>12.490100</td>\n",
       "      <td>65.053197</td>\n",
       "      <td>274.393650</td>\n",
       "      <td>0.497790</td>\n",
       "    </tr>\n",
       "    <tr>\n",
       "      <th>std</th>\n",
       "      <td>28867.657797</td>\n",
       "      <td>15.280283</td>\n",
       "      <td>6.926461</td>\n",
       "      <td>20.230696</td>\n",
       "      <td>130.463063</td>\n",
       "      <td>0.499998</td>\n",
       "    </tr>\n",
       "    <tr>\n",
       "      <th>min</th>\n",
       "      <td>1.000000</td>\n",
       "      <td>18.000000</td>\n",
       "      <td>1.000000</td>\n",
       "      <td>30.000000</td>\n",
       "      <td>50.000000</td>\n",
       "      <td>0.000000</td>\n",
       "    </tr>\n",
       "    <tr>\n",
       "      <th>25%</th>\n",
       "      <td>25000.750000</td>\n",
       "      <td>31.000000</td>\n",
       "      <td>6.000000</td>\n",
       "      <td>47.540000</td>\n",
       "      <td>161.000000</td>\n",
       "      <td>0.000000</td>\n",
       "    </tr>\n",
       "    <tr>\n",
       "      <th>50%</th>\n",
       "      <td>50000.500000</td>\n",
       "      <td>44.000000</td>\n",
       "      <td>12.000000</td>\n",
       "      <td>65.010000</td>\n",
       "      <td>274.000000</td>\n",
       "      <td>0.000000</td>\n",
       "    </tr>\n",
       "    <tr>\n",
       "      <th>75%</th>\n",
       "      <td>75000.250000</td>\n",
       "      <td>57.000000</td>\n",
       "      <td>19.000000</td>\n",
       "      <td>82.640000</td>\n",
       "      <td>387.000000</td>\n",
       "      <td>1.000000</td>\n",
       "    </tr>\n",
       "    <tr>\n",
       "      <th>max</th>\n",
       "      <td>100000.000000</td>\n",
       "      <td>70.000000</td>\n",
       "      <td>24.000000</td>\n",
       "      <td>100.000000</td>\n",
       "      <td>500.000000</td>\n",
       "      <td>1.000000</td>\n",
       "    </tr>\n",
       "  </tbody>\n",
       "</table>\n",
       "</div>"
      ],
      "text/plain": [
       "          CustomerID            Age  Subscription_Length_Months  \\\n",
       "count  100000.000000  100000.000000               100000.000000   \n",
       "mean    50000.500000      44.027020                   12.490100   \n",
       "std     28867.657797      15.280283                    6.926461   \n",
       "min         1.000000      18.000000                    1.000000   \n",
       "25%     25000.750000      31.000000                    6.000000   \n",
       "50%     50000.500000      44.000000                   12.000000   \n",
       "75%     75000.250000      57.000000                   19.000000   \n",
       "max    100000.000000      70.000000                   24.000000   \n",
       "\n",
       "        Monthly_Bill  Total_Usage_GB          Churn  \n",
       "count  100000.000000   100000.000000  100000.000000  \n",
       "mean       65.053197      274.393650       0.497790  \n",
       "std        20.230696      130.463063       0.499998  \n",
       "min        30.000000       50.000000       0.000000  \n",
       "25%        47.540000      161.000000       0.000000  \n",
       "50%        65.010000      274.000000       0.000000  \n",
       "75%        82.640000      387.000000       1.000000  \n",
       "max       100.000000      500.000000       1.000000  "
      ]
     },
     "execution_count": 74,
     "metadata": {},
     "output_type": "execute_result"
    }
   ],
   "source": [
    "data.describe()"
   ]
  },
  {
   "cell_type": "markdown",
   "id": "d206ccea",
   "metadata": {},
   "source": [
    "### We can see from the above result:\n",
    "#### For AGE : min age is 18 , max is 70 , avg is 44.\n",
    "#### For Subscription_Length_Months: \n",
    "####  -> min subscription is for 1 month , max subscription is for 24 months ,average is for 12 months.\n",
    "#### Monthly bill :\n",
    "####  -> minimum bill is 30 , maximum bill is 100 , average bill is 65.\n",
    "####  Data Usage :\n",
    "#### -> max data usage is 500GB , minimum data usage is 50 , average data usage is 274."
   ]
  },
  {
   "cell_type": "markdown",
   "id": "05e14be0",
   "metadata": {},
   "source": [
    "# Converting categorical varibale into numerical"
   ]
  },
  {
   "cell_type": "code",
   "execution_count": 75,
   "id": "eb4df7d1",
   "metadata": {},
   "outputs": [],
   "source": [
    "from sklearn import preprocessing"
   ]
  },
  {
   "cell_type": "code",
   "execution_count": 76,
   "id": "dd85ac88",
   "metadata": {},
   "outputs": [
    {
     "data": {
      "text/plain": [
       "Index(['CustomerID', 'Name', 'Age', 'Gender', 'Location',\n",
       "       'Subscription_Length_Months', 'Monthly_Bill', 'Total_Usage_GB',\n",
       "       'Churn'],\n",
       "      dtype='object')"
      ]
     },
     "execution_count": 76,
     "metadata": {},
     "output_type": "execute_result"
    }
   ],
   "source": [
    "data.columns"
   ]
  },
  {
   "cell_type": "code",
   "execution_count": 77,
   "id": "132d31f1",
   "metadata": {},
   "outputs": [
    {
     "data": {
      "text/plain": [
       "array([1, 0])"
      ]
     },
     "execution_count": 77,
     "metadata": {},
     "output_type": "execute_result"
    }
   ],
   "source": [
    "label_encoder = preprocessing.LabelEncoder()\n",
    "  \n",
    "# Encode labels in column 'species'.\n",
    "data['Gender']= label_encoder.fit_transform(data['Gender'])\n",
    "  \n",
    "data['Gender'].unique()"
   ]
  },
  {
   "cell_type": "code",
   "execution_count": 78,
   "id": "23224370",
   "metadata": {},
   "outputs": [
    {
     "data": {
      "text/plain": [
       "array([2, 4, 3, 0, 1])"
      ]
     },
     "execution_count": 78,
     "metadata": {},
     "output_type": "execute_result"
    }
   ],
   "source": [
    "data['Location']= label_encoder.fit_transform(data['Location'])\n",
    "  \n",
    "data['Location'].unique()"
   ]
  },
  {
   "cell_type": "markdown",
   "id": "a08c681b",
   "metadata": {},
   "source": [
    "### Dropping column \"Name\" ,\"CustomerID\" as they are not required "
   ]
  },
  {
   "cell_type": "code",
   "execution_count": 79,
   "id": "95ea4537",
   "metadata": {},
   "outputs": [],
   "source": [
    "data = data.drop(['Name','CustomerID'],axis = 1)"
   ]
  },
  {
   "cell_type": "code",
   "execution_count": 80,
   "id": "c04a1bd6",
   "metadata": {},
   "outputs": [
    {
     "data": {
      "text/html": [
       "<div>\n",
       "<style scoped>\n",
       "    .dataframe tbody tr th:only-of-type {\n",
       "        vertical-align: middle;\n",
       "    }\n",
       "\n",
       "    .dataframe tbody tr th {\n",
       "        vertical-align: top;\n",
       "    }\n",
       "\n",
       "    .dataframe thead th {\n",
       "        text-align: right;\n",
       "    }\n",
       "</style>\n",
       "<table border=\"1\" class=\"dataframe\">\n",
       "  <thead>\n",
       "    <tr style=\"text-align: right;\">\n",
       "      <th></th>\n",
       "      <th>Age</th>\n",
       "      <th>Gender</th>\n",
       "      <th>Location</th>\n",
       "      <th>Subscription_Length_Months</th>\n",
       "      <th>Monthly_Bill</th>\n",
       "      <th>Total_Usage_GB</th>\n",
       "      <th>Churn</th>\n",
       "    </tr>\n",
       "  </thead>\n",
       "  <tbody>\n",
       "    <tr>\n",
       "      <th>0</th>\n",
       "      <td>63</td>\n",
       "      <td>1</td>\n",
       "      <td>2</td>\n",
       "      <td>17</td>\n",
       "      <td>73.36</td>\n",
       "      <td>236</td>\n",
       "      <td>0</td>\n",
       "    </tr>\n",
       "    <tr>\n",
       "      <th>1</th>\n",
       "      <td>62</td>\n",
       "      <td>0</td>\n",
       "      <td>4</td>\n",
       "      <td>1</td>\n",
       "      <td>48.76</td>\n",
       "      <td>172</td>\n",
       "      <td>0</td>\n",
       "    </tr>\n",
       "    <tr>\n",
       "      <th>2</th>\n",
       "      <td>24</td>\n",
       "      <td>0</td>\n",
       "      <td>2</td>\n",
       "      <td>5</td>\n",
       "      <td>85.47</td>\n",
       "      <td>460</td>\n",
       "      <td>0</td>\n",
       "    </tr>\n",
       "    <tr>\n",
       "      <th>3</th>\n",
       "      <td>36</td>\n",
       "      <td>0</td>\n",
       "      <td>3</td>\n",
       "      <td>3</td>\n",
       "      <td>97.94</td>\n",
       "      <td>297</td>\n",
       "      <td>1</td>\n",
       "    </tr>\n",
       "    <tr>\n",
       "      <th>4</th>\n",
       "      <td>46</td>\n",
       "      <td>0</td>\n",
       "      <td>3</td>\n",
       "      <td>19</td>\n",
       "      <td>58.14</td>\n",
       "      <td>266</td>\n",
       "      <td>0</td>\n",
       "    </tr>\n",
       "  </tbody>\n",
       "</table>\n",
       "</div>"
      ],
      "text/plain": [
       "   Age  Gender  Location  Subscription_Length_Months  Monthly_Bill  \\\n",
       "0   63       1         2                          17         73.36   \n",
       "1   62       0         4                           1         48.76   \n",
       "2   24       0         2                           5         85.47   \n",
       "3   36       0         3                           3         97.94   \n",
       "4   46       0         3                          19         58.14   \n",
       "\n",
       "   Total_Usage_GB  Churn  \n",
       "0             236      0  \n",
       "1             172      0  \n",
       "2             460      0  \n",
       "3             297      1  \n",
       "4             266      0  "
      ]
     },
     "execution_count": 80,
     "metadata": {},
     "output_type": "execute_result"
    }
   ],
   "source": [
    "data.head()"
   ]
  },
  {
   "cell_type": "markdown",
   "id": "427688a7",
   "metadata": {},
   "source": [
    "# Checking outliers"
   ]
  },
  {
   "cell_type": "code",
   "execution_count": 81,
   "id": "6878574a",
   "metadata": {},
   "outputs": [],
   "source": [
    "import seaborn as sns"
   ]
  },
  {
   "cell_type": "code",
   "execution_count": 82,
   "id": "7ad276fe",
   "metadata": {},
   "outputs": [
    {
     "data": {
      "text/plain": [
       "<Axes: xlabel='Churn', ylabel='Subscription_Length_Months'>"
      ]
     },
     "execution_count": 82,
     "metadata": {},
     "output_type": "execute_result"
    },
    {
     "data": {
      "image/png": "[encoded data removed]",
      "text/plain": [
       "<Figure size 640x480 with 1 Axes>"
      ]
     },
     "metadata": {},
     "output_type": "display_data"
    }
   ],
   "source": [
    "sns.boxplot(x = data.Churn, y = data.Subscription_Length_Months)"
   ]
  },
  {
   "cell_type": "code",
   "execution_count": 83,
   "id": "579fe695",
   "metadata": {},
   "outputs": [
    {
     "data": {
      "text/plain": [
       "<Axes: xlabel='Churn', ylabel='Total_Usage_GB'>"
      ]
     },
     "execution_count": 83,
     "metadata": {},
     "output_type": "execute_result"
    },
    {
     "data": {
      "image/png": "[encoded data removed]",
      "text/plain": [
       "<Figure size 640x480 with 1 Axes>"
      ]
     },
     "metadata": {},
     "output_type": "display_data"
    }
   ],
   "source": [
    "sns.boxplot(x = data.Churn, y = data.Total_Usage_GB)"
   ]
  },
  {
   "cell_type": "markdown",
   "id": "5d37f36b",
   "metadata": {},
   "source": [
    "# Feature Creation"
   ]
  },
  {
   "cell_type": "code",
   "execution_count": 84,
   "id": "c3cec4c0",
   "metadata": {},
   "outputs": [
    {
     "data": {
      "text/html": [
       "<div>\n",
       "<style scoped>\n",
       "    .dataframe tbody tr th:only-of-type {\n",
       "        vertical-align: middle;\n",
       "    }\n",
       "\n",
       "    .dataframe tbody tr th {\n",
       "        vertical-align: top;\n",
       "    }\n",
       "\n",
       "    .dataframe thead th {\n",
       "        text-align: right;\n",
       "    }\n",
       "</style>\n",
       "<table border=\"1\" class=\"dataframe\">\n",
       "  <thead>\n",
       "    <tr style=\"text-align: right;\">\n",
       "      <th></th>\n",
       "      <th>Age</th>\n",
       "      <th>Gender</th>\n",
       "      <th>Location</th>\n",
       "      <th>Subscription_Length_Months</th>\n",
       "      <th>Monthly_Bill</th>\n",
       "      <th>Total_Usage_GB</th>\n",
       "      <th>Churn</th>\n",
       "    </tr>\n",
       "  </thead>\n",
       "  <tbody>\n",
       "    <tr>\n",
       "      <th>0</th>\n",
       "      <td>63</td>\n",
       "      <td>1</td>\n",
       "      <td>2</td>\n",
       "      <td>17</td>\n",
       "      <td>73.36</td>\n",
       "      <td>236</td>\n",
       "      <td>0</td>\n",
       "    </tr>\n",
       "    <tr>\n",
       "      <th>1</th>\n",
       "      <td>62</td>\n",
       "      <td>0</td>\n",
       "      <td>4</td>\n",
       "      <td>1</td>\n",
       "      <td>48.76</td>\n",
       "      <td>172</td>\n",
       "      <td>0</td>\n",
       "    </tr>\n",
       "    <tr>\n",
       "      <th>2</th>\n",
       "      <td>24</td>\n",
       "      <td>0</td>\n",
       "      <td>2</td>\n",
       "      <td>5</td>\n",
       "      <td>85.47</td>\n",
       "      <td>460</td>\n",
       "      <td>0</td>\n",
       "    </tr>\n",
       "    <tr>\n",
       "      <th>3</th>\n",
       "      <td>36</td>\n",
       "      <td>0</td>\n",
       "      <td>3</td>\n",
       "      <td>3</td>\n",
       "      <td>97.94</td>\n",
       "      <td>297</td>\n",
       "      <td>1</td>\n",
       "    </tr>\n",
       "    <tr>\n",
       "      <th>4</th>\n",
       "      <td>46</td>\n",
       "      <td>0</td>\n",
       "      <td>3</td>\n",
       "      <td>19</td>\n",
       "      <td>58.14</td>\n",
       "      <td>266</td>\n",
       "      <td>0</td>\n",
       "    </tr>\n",
       "  </tbody>\n",
       "</table>\n",
       "</div>"
      ],
      "text/plain": [
       "   Age  Gender  Location  Subscription_Length_Months  Monthly_Bill  \\\n",
       "0   63       1         2                          17         73.36   \n",
       "1   62       0         4                           1         48.76   \n",
       "2   24       0         2                           5         85.47   \n",
       "3   36       0         3                           3         97.94   \n",
       "4   46       0         3                          19         58.14   \n",
       "\n",
       "   Total_Usage_GB  Churn  \n",
       "0             236      0  \n",
       "1             172      0  \n",
       "2             460      0  \n",
       "3             297      1  \n",
       "4             266      0  "
      ]
     },
     "execution_count": 84,
     "metadata": {},
     "output_type": "execute_result"
    }
   ],
   "source": [
    "data.head()"
   ]
  },
  {
   "cell_type": "code",
   "execution_count": 85,
   "id": "469bdb80",
   "metadata": {},
   "outputs": [],
   "source": [
    "data[\"Total_bill\"] = data[\"Subscription_Length_Months\"]*data[\"Monthly_Bill\"]"
   ]
  },
  {
   "cell_type": "code",
   "execution_count": 86,
   "id": "a119a813",
   "metadata": {},
   "outputs": [],
   "source": [
    "data['Monthly data usage'] = data['Total_Usage_GB']/data['Subscription_Length_Months']"
   ]
  },
  {
   "cell_type": "code",
   "execution_count": 87,
   "id": "c38965a6",
   "metadata": {},
   "outputs": [
    {
     "data": {
      "text/html": [
       "<div>\n",
       "<style scoped>\n",
       "    .dataframe tbody tr th:only-of-type {\n",
       "        vertical-align: middle;\n",
       "    }\n",
       "\n",
       "    .dataframe tbody tr th {\n",
       "        vertical-align: top;\n",
       "    }\n",
       "\n",
       "    .dataframe thead th {\n",
       "        text-align: right;\n",
       "    }\n",
       "</style>\n",
       "<table border=\"1\" class=\"dataframe\">\n",
       "  <thead>\n",
       "    <tr style=\"text-align: right;\">\n",
       "      <th></th>\n",
       "      <th>Age</th>\n",
       "      <th>Gender</th>\n",
       "      <th>Location</th>\n",
       "      <th>Subscription_Length_Months</th>\n",
       "      <th>Monthly_Bill</th>\n",
       "      <th>Total_Usage_GB</th>\n",
       "      <th>Churn</th>\n",
       "      <th>Total_bill</th>\n",
       "      <th>Monthly data usage</th>\n",
       "    </tr>\n",
       "  </thead>\n",
       "  <tbody>\n",
       "    <tr>\n",
       "      <th>0</th>\n",
       "      <td>63</td>\n",
       "      <td>1</td>\n",
       "      <td>2</td>\n",
       "      <td>17</td>\n",
       "      <td>73.36</td>\n",
       "      <td>236</td>\n",
       "      <td>0</td>\n",
       "      <td>1247.12</td>\n",
       "      <td>13.882353</td>\n",
       "    </tr>\n",
       "    <tr>\n",
       "      <th>1</th>\n",
       "      <td>62</td>\n",
       "      <td>0</td>\n",
       "      <td>4</td>\n",
       "      <td>1</td>\n",
       "      <td>48.76</td>\n",
       "      <td>172</td>\n",
       "      <td>0</td>\n",
       "      <td>48.76</td>\n",
       "      <td>172.000000</td>\n",
       "    </tr>\n",
       "    <tr>\n",
       "      <th>2</th>\n",
       "      <td>24</td>\n",
       "      <td>0</td>\n",
       "      <td>2</td>\n",
       "      <td>5</td>\n",
       "      <td>85.47</td>\n",
       "      <td>460</td>\n",
       "      <td>0</td>\n",
       "      <td>427.35</td>\n",
       "      <td>92.000000</td>\n",
       "    </tr>\n",
       "    <tr>\n",
       "      <th>3</th>\n",
       "      <td>36</td>\n",
       "      <td>0</td>\n",
       "      <td>3</td>\n",
       "      <td>3</td>\n",
       "      <td>97.94</td>\n",
       "      <td>297</td>\n",
       "      <td>1</td>\n",
       "      <td>293.82</td>\n",
       "      <td>99.000000</td>\n",
       "    </tr>\n",
       "    <tr>\n",
       "      <th>4</th>\n",
       "      <td>46</td>\n",
       "      <td>0</td>\n",
       "      <td>3</td>\n",
       "      <td>19</td>\n",
       "      <td>58.14</td>\n",
       "      <td>266</td>\n",
       "      <td>0</td>\n",
       "      <td>1104.66</td>\n",
       "      <td>14.000000</td>\n",
       "    </tr>\n",
       "  </tbody>\n",
       "</table>\n",
       "</div>"
      ],
      "text/plain": [
       "   Age  Gender  Location  Subscription_Length_Months  Monthly_Bill  \\\n",
       "0   63       1         2                          17         73.36   \n",
       "1   62       0         4                           1         48.76   \n",
       "2   24       0         2                           5         85.47   \n",
       "3   36       0         3                           3         97.94   \n",
       "4   46       0         3                          19         58.14   \n",
       "\n",
       "   Total_Usage_GB  Churn  Total_bill  Monthly data usage  \n",
       "0             236      0     1247.12           13.882353  \n",
       "1             172      0       48.76          172.000000  \n",
       "2             460      0      427.35           92.000000  \n",
       "3             297      1      293.82           99.000000  \n",
       "4             266      0     1104.66           14.000000  "
      ]
     },
     "execution_count": 87,
     "metadata": {},
     "output_type": "execute_result"
    }
   ],
   "source": [
    "data.head()"
   ]
  },
  {
   "cell_type": "code",
   "execution_count": 88,
   "id": "82ce8113",
   "metadata": {},
   "outputs": [],
   "source": [
    "data = data.round(decimals = 2)"
   ]
  },
  {
   "cell_type": "code",
   "execution_count": 89,
   "id": "b0805828",
   "metadata": {
    "scrolled": true
   },
   "outputs": [
    {
     "data": {
      "text/html": [
       "<div>\n",
       "<style scoped>\n",
       "    .dataframe tbody tr th:only-of-type {\n",
       "        vertical-align: middle;\n",
       "    }\n",
       "\n",
       "    .dataframe tbody tr th {\n",
       "        vertical-align: top;\n",
       "    }\n",
       "\n",
       "    .dataframe thead th {\n",
       "        text-align: right;\n",
       "    }\n",
       "</style>\n",
       "<table border=\"1\" class=\"dataframe\">\n",
       "  <thead>\n",
       "    <tr style=\"text-align: right;\">\n",
       "      <th></th>\n",
       "      <th>Age</th>\n",
       "      <th>Gender</th>\n",
       "      <th>Location</th>\n",
       "      <th>Subscription_Length_Months</th>\n",
       "      <th>Monthly_Bill</th>\n",
       "      <th>Total_Usage_GB</th>\n",
       "      <th>Churn</th>\n",
       "      <th>Total_bill</th>\n",
       "      <th>Monthly data usage</th>\n",
       "    </tr>\n",
       "  </thead>\n",
       "  <tbody>\n",
       "    <tr>\n",
       "      <th>0</th>\n",
       "      <td>63</td>\n",
       "      <td>1</td>\n",
       "      <td>2</td>\n",
       "      <td>17</td>\n",
       "      <td>73.36</td>\n",
       "      <td>236</td>\n",
       "      <td>0</td>\n",
       "      <td>1247.12</td>\n",
       "      <td>13.88</td>\n",
       "    </tr>\n",
       "    <tr>\n",
       "      <th>1</th>\n",
       "      <td>62</td>\n",
       "      <td>0</td>\n",
       "      <td>4</td>\n",
       "      <td>1</td>\n",
       "      <td>48.76</td>\n",
       "      <td>172</td>\n",
       "      <td>0</td>\n",
       "      <td>48.76</td>\n",
       "      <td>172.00</td>\n",
       "    </tr>\n",
       "    <tr>\n",
       "      <th>2</th>\n",
       "      <td>24</td>\n",
       "      <td>0</td>\n",
       "      <td>2</td>\n",
       "      <td>5</td>\n",
       "      <td>85.47</td>\n",
       "      <td>460</td>\n",
       "      <td>0</td>\n",
       "      <td>427.35</td>\n",
       "      <td>92.00</td>\n",
       "    </tr>\n",
       "    <tr>\n",
       "      <th>3</th>\n",
       "      <td>36</td>\n",
       "      <td>0</td>\n",
       "      <td>3</td>\n",
       "      <td>3</td>\n",
       "      <td>97.94</td>\n",
       "      <td>297</td>\n",
       "      <td>1</td>\n",
       "      <td>293.82</td>\n",
       "      <td>99.00</td>\n",
       "    </tr>\n",
       "    <tr>\n",
       "      <th>4</th>\n",
       "      <td>46</td>\n",
       "      <td>0</td>\n",
       "      <td>3</td>\n",
       "      <td>19</td>\n",
       "      <td>58.14</td>\n",
       "      <td>266</td>\n",
       "      <td>0</td>\n",
       "      <td>1104.66</td>\n",
       "      <td>14.00</td>\n",
       "    </tr>\n",
       "    <tr>\n",
       "      <th>...</th>\n",
       "      <td>...</td>\n",
       "      <td>...</td>\n",
       "      <td>...</td>\n",
       "      <td>...</td>\n",
       "      <td>...</td>\n",
       "      <td>...</td>\n",
       "      <td>...</td>\n",
       "      <td>...</td>\n",
       "      <td>...</td>\n",
       "    </tr>\n",
       "    <tr>\n",
       "      <th>99995</th>\n",
       "      <td>33</td>\n",
       "      <td>1</td>\n",
       "      <td>1</td>\n",
       "      <td>23</td>\n",
       "      <td>55.13</td>\n",
       "      <td>226</td>\n",
       "      <td>1</td>\n",
       "      <td>1267.99</td>\n",
       "      <td>9.83</td>\n",
       "    </tr>\n",
       "    <tr>\n",
       "      <th>99996</th>\n",
       "      <td>62</td>\n",
       "      <td>0</td>\n",
       "      <td>4</td>\n",
       "      <td>19</td>\n",
       "      <td>61.65</td>\n",
       "      <td>351</td>\n",
       "      <td>0</td>\n",
       "      <td>1171.35</td>\n",
       "      <td>18.47</td>\n",
       "    </tr>\n",
       "    <tr>\n",
       "      <th>99997</th>\n",
       "      <td>64</td>\n",
       "      <td>1</td>\n",
       "      <td>0</td>\n",
       "      <td>17</td>\n",
       "      <td>96.11</td>\n",
       "      <td>251</td>\n",
       "      <td>1</td>\n",
       "      <td>1633.87</td>\n",
       "      <td>14.76</td>\n",
       "    </tr>\n",
       "    <tr>\n",
       "      <th>99998</th>\n",
       "      <td>51</td>\n",
       "      <td>0</td>\n",
       "      <td>4</td>\n",
       "      <td>20</td>\n",
       "      <td>49.25</td>\n",
       "      <td>434</td>\n",
       "      <td>1</td>\n",
       "      <td>985.00</td>\n",
       "      <td>21.70</td>\n",
       "    </tr>\n",
       "    <tr>\n",
       "      <th>99999</th>\n",
       "      <td>27</td>\n",
       "      <td>0</td>\n",
       "      <td>2</td>\n",
       "      <td>19</td>\n",
       "      <td>76.57</td>\n",
       "      <td>173</td>\n",
       "      <td>1</td>\n",
       "      <td>1454.83</td>\n",
       "      <td>9.11</td>\n",
       "    </tr>\n",
       "  </tbody>\n",
       "</table>\n",
       "<p>100000 rows × 9 columns</p>\n",
       "</div>"
      ],
      "text/plain": [
       "       Age  Gender  Location  Subscription_Length_Months  Monthly_Bill  \\\n",
       "0       63       1         2                          17         73.36   \n",
       "1       62       0         4                           1         48.76   \n",
       "2       24       0         2                           5         85.47   \n",
       "3       36       0         3                           3         97.94   \n",
       "4       46       0         3                          19         58.14   \n",
       "...    ...     ...       ...                         ...           ...   \n",
       "99995   33       1         1                          23         55.13   \n",
       "99996   62       0         4                          19         61.65   \n",
       "99997   64       1         0                          17         96.11   \n",
       "99998   51       0         4                          20         49.25   \n",
       "99999   27       0         2                          19         76.57   \n",
       "\n",
       "       Total_Usage_GB  Churn  Total_bill  Monthly data usage  \n",
       "0                 236      0     1247.12               13.88  \n",
       "1                 172      0       48.76              172.00  \n",
       "2                 460      0      427.35               92.00  \n",
       "3                 297      1      293.82               99.00  \n",
       "4                 266      0     1104.66               14.00  \n",
       "...               ...    ...         ...                 ...  \n",
       "99995             226      1     1267.99                9.83  \n",
       "99996             351      0     1171.35               18.47  \n",
       "99997             251      1     1633.87               14.76  \n",
       "99998             434      1      985.00               21.70  \n",
       "99999             173      1     1454.83                9.11  \n",
       "\n",
       "[100000 rows x 9 columns]"
      ]
     },
     "execution_count": 89,
     "metadata": {},
     "output_type": "execute_result"
    }
   ],
   "source": [
    "data"
   ]
  },
  {
   "cell_type": "markdown",
   "id": "b18c798f",
   "metadata": {},
   "source": [
    "### Checking Correlation of the variables"
   ]
  },
  {
   "cell_type": "code",
   "execution_count": 90,
   "id": "00def7a2",
   "metadata": {},
   "outputs": [
    {
     "data": {
      "text/html": [
       "<div>\n",
       "<style scoped>\n",
       "    .dataframe tbody tr th:only-of-type {\n",
       "        vertical-align: middle;\n",
       "    }\n",
       "\n",
       "    .dataframe tbody tr th {\n",
       "        vertical-align: top;\n",
       "    }\n",
       "\n",
       "    .dataframe thead th {\n",
       "        text-align: right;\n",
       "    }\n",
       "</style>\n",
       "<table border=\"1\" class=\"dataframe\">\n",
       "  <thead>\n",
       "    <tr style=\"text-align: right;\">\n",
       "      <th></th>\n",
       "      <th>Age</th>\n",
       "      <th>Gender</th>\n",
       "      <th>Location</th>\n",
       "      <th>Subscription_Length_Months</th>\n",
       "      <th>Monthly_Bill</th>\n",
       "      <th>Total_Usage_GB</th>\n",
       "      <th>Churn</th>\n",
       "      <th>Total_bill</th>\n",
       "      <th>Monthly data usage</th>\n",
       "    </tr>\n",
       "  </thead>\n",
       "  <tbody>\n",
       "    <tr>\n",
       "      <th>Age</th>\n",
       "      <td>1.000000</td>\n",
       "      <td>0.000832</td>\n",
       "      <td>-0.005889</td>\n",
       "      <td>0.003382</td>\n",
       "      <td>0.001110</td>\n",
       "      <td>0.001927</td>\n",
       "      <td>0.001559</td>\n",
       "      <td>0.004375</td>\n",
       "      <td>-0.001419</td>\n",
       "    </tr>\n",
       "    <tr>\n",
       "      <th>Gender</th>\n",
       "      <td>0.000832</td>\n",
       "      <td>1.000000</td>\n",
       "      <td>-0.003314</td>\n",
       "      <td>0.000320</td>\n",
       "      <td>0.002239</td>\n",
       "      <td>-0.001385</td>\n",
       "      <td>0.002121</td>\n",
       "      <td>0.001353</td>\n",
       "      <td>0.001347</td>\n",
       "    </tr>\n",
       "    <tr>\n",
       "      <th>Location</th>\n",
       "      <td>-0.005889</td>\n",
       "      <td>-0.003314</td>\n",
       "      <td>1.000000</td>\n",
       "      <td>-0.001768</td>\n",
       "      <td>0.003716</td>\n",
       "      <td>0.002834</td>\n",
       "      <td>0.006405</td>\n",
       "      <td>0.000623</td>\n",
       "      <td>0.002010</td>\n",
       "    </tr>\n",
       "    <tr>\n",
       "      <th>Subscription_Length_Months</th>\n",
       "      <td>0.003382</td>\n",
       "      <td>0.000320</td>\n",
       "      <td>-0.001768</td>\n",
       "      <td>1.000000</td>\n",
       "      <td>-0.005294</td>\n",
       "      <td>-0.002203</td>\n",
       "      <td>0.002328</td>\n",
       "      <td>0.841891</td>\n",
       "      <td>-0.586065</td>\n",
       "    </tr>\n",
       "    <tr>\n",
       "      <th>Monthly_Bill</th>\n",
       "      <td>0.001110</td>\n",
       "      <td>0.002239</td>\n",
       "      <td>0.003716</td>\n",
       "      <td>-0.005294</td>\n",
       "      <td>1.000000</td>\n",
       "      <td>0.003187</td>\n",
       "      <td>-0.000211</td>\n",
       "      <td>0.466938</td>\n",
       "      <td>0.005304</td>\n",
       "    </tr>\n",
       "    <tr>\n",
       "      <th>Total_Usage_GB</th>\n",
       "      <td>0.001927</td>\n",
       "      <td>-0.001385</td>\n",
       "      <td>0.002834</td>\n",
       "      <td>-0.002203</td>\n",
       "      <td>0.003187</td>\n",
       "      <td>1.000000</td>\n",
       "      <td>-0.002842</td>\n",
       "      <td>0.000199</td>\n",
       "      <td>0.311101</td>\n",
       "    </tr>\n",
       "    <tr>\n",
       "      <th>Churn</th>\n",
       "      <td>0.001559</td>\n",
       "      <td>0.002121</td>\n",
       "      <td>0.006405</td>\n",
       "      <td>0.002328</td>\n",
       "      <td>-0.000211</td>\n",
       "      <td>-0.002842</td>\n",
       "      <td>1.000000</td>\n",
       "      <td>0.001325</td>\n",
       "      <td>0.000443</td>\n",
       "    </tr>\n",
       "    <tr>\n",
       "      <th>Total_bill</th>\n",
       "      <td>0.004375</td>\n",
       "      <td>0.001353</td>\n",
       "      <td>0.000623</td>\n",
       "      <td>0.841891</td>\n",
       "      <td>0.466938</td>\n",
       "      <td>0.000199</td>\n",
       "      <td>0.001325</td>\n",
       "      <td>1.000000</td>\n",
       "      <td>-0.493497</td>\n",
       "    </tr>\n",
       "    <tr>\n",
       "      <th>Monthly data usage</th>\n",
       "      <td>-0.001419</td>\n",
       "      <td>0.001347</td>\n",
       "      <td>0.002010</td>\n",
       "      <td>-0.586065</td>\n",
       "      <td>0.005304</td>\n",
       "      <td>0.311101</td>\n",
       "      <td>0.000443</td>\n",
       "      <td>-0.493497</td>\n",
       "      <td>1.000000</td>\n",
       "    </tr>\n",
       "  </tbody>\n",
       "</table>\n",
       "</div>"
      ],
      "text/plain": [
       "                                 Age    Gender  Location  \\\n",
       "Age                         1.000000  0.000832 -0.005889   \n",
       "Gender                      0.000832  1.000000 -0.003314   \n",
       "Location                   -0.005889 -0.003314  1.000000   \n",
       "Subscription_Length_Months  0.003382  0.000320 -0.001768   \n",
       "Monthly_Bill                0.001110  0.002239  0.003716   \n",
       "Total_Usage_GB              0.001927 -0.001385  0.002834   \n",
       "Churn                       0.001559  0.002121  0.006405   \n",
       "Total_bill                  0.004375  0.001353  0.000623   \n",
       "Monthly data usage         -0.001419  0.001347  0.002010   \n",
       "\n",
       "                            Subscription_Length_Months  Monthly_Bill  \\\n",
       "Age                                           0.003382      0.001110   \n",
       "Gender                                        0.000320      0.002239   \n",
       "Location                                     -0.001768      0.003716   \n",
       "Subscription_Length_Months                    1.000000     -0.005294   \n",
       "Monthly_Bill                                 -0.005294      1.000000   \n",
       "Total_Usage_GB                               -0.002203      0.003187   \n",
       "Churn                                         0.002328     -0.000211   \n",
       "Total_bill                                    0.841891      0.466938   \n",
       "Monthly data usage                           -0.586065      0.005304   \n",
       "\n",
       "                            Total_Usage_GB     Churn  Total_bill  \\\n",
       "Age                               0.001927  0.001559    0.004375   \n",
       "Gender                           -0.001385  0.002121    0.001353   \n",
       "Location                          0.002834  0.006405    0.000623   \n",
       "Subscription_Length_Months       -0.002203  0.002328    0.841891   \n",
       "Monthly_Bill                      0.003187 -0.000211    0.466938   \n",
       "Total_Usage_GB                    1.000000 -0.002842    0.000199   \n",
       "Churn                            -0.002842  1.000000    0.001325   \n",
       "Total_bill                        0.000199  0.001325    1.000000   \n",
       "Monthly data usage                0.311101  0.000443   -0.493497   \n",
       "\n",
       "                            Monthly data usage  \n",
       "Age                                  -0.001419  \n",
       "Gender                                0.001347  \n",
       "Location                              0.002010  \n",
       "Subscription_Length_Months           -0.586065  \n",
       "Monthly_Bill                          0.005304  \n",
       "Total_Usage_GB                        0.311101  \n",
       "Churn                                 0.000443  \n",
       "Total_bill                           -0.493497  \n",
       "Monthly data usage                    1.000000  "
      ]
     },
     "execution_count": 90,
     "metadata": {},
     "output_type": "execute_result"
    }
   ],
   "source": [
    "data.corr()"
   ]
  },
  {
   "cell_type": "markdown",
   "id": "64f86a96",
   "metadata": {},
   "source": [
    "### Total bill is creating the problem of multicollinearity because of its high correlation with Subscription_Length_Months so we are dropping this feature."
   ]
  },
  {
   "cell_type": "code",
   "execution_count": 91,
   "id": "8056060b",
   "metadata": {},
   "outputs": [],
   "source": [
    "data.drop([\"Total_bill\"], axis = 1, inplace = True)"
   ]
  },
  {
   "cell_type": "code",
   "execution_count": 92,
   "id": "fde84c41",
   "metadata": {
    "scrolled": true
   },
   "outputs": [
    {
     "data": {
      "text/html": [
       "<div>\n",
       "<style scoped>\n",
       "    .dataframe tbody tr th:only-of-type {\n",
       "        vertical-align: middle;\n",
       "    }\n",
       "\n",
       "    .dataframe tbody tr th {\n",
       "        vertical-align: top;\n",
       "    }\n",
       "\n",
       "    .dataframe thead th {\n",
       "        text-align: right;\n",
       "    }\n",
       "</style>\n",
       "<table border=\"1\" class=\"dataframe\">\n",
       "  <thead>\n",
       "    <tr style=\"text-align: right;\">\n",
       "      <th></th>\n",
       "      <th>Age</th>\n",
       "      <th>Gender</th>\n",
       "      <th>Location</th>\n",
       "      <th>Subscription_Length_Months</th>\n",
       "      <th>Monthly_Bill</th>\n",
       "      <th>Total_Usage_GB</th>\n",
       "      <th>Churn</th>\n",
       "      <th>Monthly data usage</th>\n",
       "    </tr>\n",
       "  </thead>\n",
       "  <tbody>\n",
       "    <tr>\n",
       "      <th>0</th>\n",
       "      <td>63</td>\n",
       "      <td>1</td>\n",
       "      <td>2</td>\n",
       "      <td>17</td>\n",
       "      <td>73.36</td>\n",
       "      <td>236</td>\n",
       "      <td>0</td>\n",
       "      <td>13.88</td>\n",
       "    </tr>\n",
       "    <tr>\n",
       "      <th>1</th>\n",
       "      <td>62</td>\n",
       "      <td>0</td>\n",
       "      <td>4</td>\n",
       "      <td>1</td>\n",
       "      <td>48.76</td>\n",
       "      <td>172</td>\n",
       "      <td>0</td>\n",
       "      <td>172.00</td>\n",
       "    </tr>\n",
       "    <tr>\n",
       "      <th>2</th>\n",
       "      <td>24</td>\n",
       "      <td>0</td>\n",
       "      <td>2</td>\n",
       "      <td>5</td>\n",
       "      <td>85.47</td>\n",
       "      <td>460</td>\n",
       "      <td>0</td>\n",
       "      <td>92.00</td>\n",
       "    </tr>\n",
       "    <tr>\n",
       "      <th>3</th>\n",
       "      <td>36</td>\n",
       "      <td>0</td>\n",
       "      <td>3</td>\n",
       "      <td>3</td>\n",
       "      <td>97.94</td>\n",
       "      <td>297</td>\n",
       "      <td>1</td>\n",
       "      <td>99.00</td>\n",
       "    </tr>\n",
       "    <tr>\n",
       "      <th>4</th>\n",
       "      <td>46</td>\n",
       "      <td>0</td>\n",
       "      <td>3</td>\n",
       "      <td>19</td>\n",
       "      <td>58.14</td>\n",
       "      <td>266</td>\n",
       "      <td>0</td>\n",
       "      <td>14.00</td>\n",
       "    </tr>\n",
       "    <tr>\n",
       "      <th>...</th>\n",
       "      <td>...</td>\n",
       "      <td>...</td>\n",
       "      <td>...</td>\n",
       "      <td>...</td>\n",
       "      <td>...</td>\n",
       "      <td>...</td>\n",
       "      <td>...</td>\n",
       "      <td>...</td>\n",
       "    </tr>\n",
       "    <tr>\n",
       "      <th>99995</th>\n",
       "      <td>33</td>\n",
       "      <td>1</td>\n",
       "      <td>1</td>\n",
       "      <td>23</td>\n",
       "      <td>55.13</td>\n",
       "      <td>226</td>\n",
       "      <td>1</td>\n",
       "      <td>9.83</td>\n",
       "    </tr>\n",
       "    <tr>\n",
       "      <th>99996</th>\n",
       "      <td>62</td>\n",
       "      <td>0</td>\n",
       "      <td>4</td>\n",
       "      <td>19</td>\n",
       "      <td>61.65</td>\n",
       "      <td>351</td>\n",
       "      <td>0</td>\n",
       "      <td>18.47</td>\n",
       "    </tr>\n",
       "    <tr>\n",
       "      <th>99997</th>\n",
       "      <td>64</td>\n",
       "      <td>1</td>\n",
       "      <td>0</td>\n",
       "      <td>17</td>\n",
       "      <td>96.11</td>\n",
       "      <td>251</td>\n",
       "      <td>1</td>\n",
       "      <td>14.76</td>\n",
       "    </tr>\n",
       "    <tr>\n",
       "      <th>99998</th>\n",
       "      <td>51</td>\n",
       "      <td>0</td>\n",
       "      <td>4</td>\n",
       "      <td>20</td>\n",
       "      <td>49.25</td>\n",
       "      <td>434</td>\n",
       "      <td>1</td>\n",
       "      <td>21.70</td>\n",
       "    </tr>\n",
       "    <tr>\n",
       "      <th>99999</th>\n",
       "      <td>27</td>\n",
       "      <td>0</td>\n",
       "      <td>2</td>\n",
       "      <td>19</td>\n",
       "      <td>76.57</td>\n",
       "      <td>173</td>\n",
       "      <td>1</td>\n",
       "      <td>9.11</td>\n",
       "    </tr>\n",
       "  </tbody>\n",
       "</table>\n",
       "<p>100000 rows × 8 columns</p>\n",
       "</div>"
      ],
      "text/plain": [
       "       Age  Gender  Location  Subscription_Length_Months  Monthly_Bill  \\\n",
       "0       63       1         2                          17         73.36   \n",
       "1       62       0         4                           1         48.76   \n",
       "2       24       0         2                           5         85.47   \n",
       "3       36       0         3                           3         97.94   \n",
       "4       46       0         3                          19         58.14   \n",
       "...    ...     ...       ...                         ...           ...   \n",
       "99995   33       1         1                          23         55.13   \n",
       "99996   62       0         4                          19         61.65   \n",
       "99997   64       1         0                          17         96.11   \n",
       "99998   51       0         4                          20         49.25   \n",
       "99999   27       0         2                          19         76.57   \n",
       "\n",
       "       Total_Usage_GB  Churn  Monthly data usage  \n",
       "0                 236      0               13.88  \n",
       "1                 172      0              172.00  \n",
       "2                 460      0               92.00  \n",
       "3                 297      1               99.00  \n",
       "4                 266      0               14.00  \n",
       "...               ...    ...                 ...  \n",
       "99995             226      1                9.83  \n",
       "99996             351      0               18.47  \n",
       "99997             251      1               14.76  \n",
       "99998             434      1               21.70  \n",
       "99999             173      1                9.11  \n",
       "\n",
       "[100000 rows x 8 columns]"
      ]
     },
     "execution_count": 92,
     "metadata": {},
     "output_type": "execute_result"
    }
   ],
   "source": [
    "data"
   ]
  },
  {
   "cell_type": "code",
   "execution_count": 93,
   "id": "1b04f2d0",
   "metadata": {},
   "outputs": [
    {
     "data": {
      "text/html": [
       "<div>\n",
       "<style scoped>\n",
       "    .dataframe tbody tr th:only-of-type {\n",
       "        vertical-align: middle;\n",
       "    }\n",
       "\n",
       "    .dataframe tbody tr th {\n",
       "        vertical-align: top;\n",
       "    }\n",
       "\n",
       "    .dataframe thead th {\n",
       "        text-align: right;\n",
       "    }\n",
       "</style>\n",
       "<table border=\"1\" class=\"dataframe\">\n",
       "  <thead>\n",
       "    <tr style=\"text-align: right;\">\n",
       "      <th></th>\n",
       "      <th>Age</th>\n",
       "      <th>Gender</th>\n",
       "      <th>Location</th>\n",
       "      <th>Subscription_Length_Months</th>\n",
       "      <th>Monthly_Bill</th>\n",
       "      <th>Total_Usage_GB</th>\n",
       "      <th>Churn</th>\n",
       "      <th>Monthly data usage</th>\n",
       "    </tr>\n",
       "  </thead>\n",
       "  <tbody>\n",
       "    <tr>\n",
       "      <th>0</th>\n",
       "      <td>63</td>\n",
       "      <td>1</td>\n",
       "      <td>2</td>\n",
       "      <td>17</td>\n",
       "      <td>73.36</td>\n",
       "      <td>236</td>\n",
       "      <td>0</td>\n",
       "      <td>13.88</td>\n",
       "    </tr>\n",
       "    <tr>\n",
       "      <th>1</th>\n",
       "      <td>62</td>\n",
       "      <td>0</td>\n",
       "      <td>4</td>\n",
       "      <td>1</td>\n",
       "      <td>48.76</td>\n",
       "      <td>172</td>\n",
       "      <td>0</td>\n",
       "      <td>172.00</td>\n",
       "    </tr>\n",
       "    <tr>\n",
       "      <th>2</th>\n",
       "      <td>24</td>\n",
       "      <td>0</td>\n",
       "      <td>2</td>\n",
       "      <td>5</td>\n",
       "      <td>85.47</td>\n",
       "      <td>460</td>\n",
       "      <td>0</td>\n",
       "      <td>92.00</td>\n",
       "    </tr>\n",
       "    <tr>\n",
       "      <th>3</th>\n",
       "      <td>36</td>\n",
       "      <td>0</td>\n",
       "      <td>3</td>\n",
       "      <td>3</td>\n",
       "      <td>97.94</td>\n",
       "      <td>297</td>\n",
       "      <td>1</td>\n",
       "      <td>99.00</td>\n",
       "    </tr>\n",
       "    <tr>\n",
       "      <th>4</th>\n",
       "      <td>46</td>\n",
       "      <td>0</td>\n",
       "      <td>3</td>\n",
       "      <td>19</td>\n",
       "      <td>58.14</td>\n",
       "      <td>266</td>\n",
       "      <td>0</td>\n",
       "      <td>14.00</td>\n",
       "    </tr>\n",
       "  </tbody>\n",
       "</table>\n",
       "</div>"
      ],
      "text/plain": [
       "   Age  Gender  Location  Subscription_Length_Months  Monthly_Bill  \\\n",
       "0   63       1         2                          17         73.36   \n",
       "1   62       0         4                           1         48.76   \n",
       "2   24       0         2                           5         85.47   \n",
       "3   36       0         3                           3         97.94   \n",
       "4   46       0         3                          19         58.14   \n",
       "\n",
       "   Total_Usage_GB  Churn  Monthly data usage  \n",
       "0             236      0               13.88  \n",
       "1             172      0              172.00  \n",
       "2             460      0               92.00  \n",
       "3             297      1               99.00  \n",
       "4             266      0               14.00  "
      ]
     },
     "execution_count": 93,
     "metadata": {},
     "output_type": "execute_result"
    }
   ],
   "source": [
    "data.head()"
   ]
  },
  {
   "cell_type": "code",
   "execution_count": 94,
   "id": "25d88f3d",
   "metadata": {},
   "outputs": [],
   "source": [
    "X = data.drop(['Churn'],axis=1)\n",
    "y = data['Churn'].values"
   ]
  },
  {
   "cell_type": "markdown",
   "id": "e7be6f19",
   "metadata": {},
   "source": [
    "# Scaling / Normalizing  "
   ]
  },
  {
   "cell_type": "code",
   "execution_count": 95,
   "id": "e502a87a",
   "metadata": {},
   "outputs": [],
   "source": [
    "from sklearn.preprocessing import MinMaxScaler\n",
    "features = X.columns.values\n",
    "scaler = MinMaxScaler(feature_range = (0,1))\n",
    "scaler.fit(X)\n",
    "X = pd.DataFrame(scaler.transform(X))\n",
    "X.columns = features"
   ]
  },
  {
   "cell_type": "markdown",
   "id": "e3a88b21",
   "metadata": {},
   "source": [
    "# Train Test Split"
   ]
  },
  {
   "cell_type": "code",
   "execution_count": 96,
   "id": "3f64d8ea",
   "metadata": {},
   "outputs": [],
   "source": [
    "from sklearn.model_selection import train_test_split\n",
    "X_train, X_test, y_train, y_test = train_test_split(X, y, test_size=0.3, random_state=101)"
   ]
  },
  {
   "cell_type": "markdown",
   "id": "5f72d9a0",
   "metadata": {},
   "source": [
    "#  Selecting Best Model Based On accuracy Score"
   ]
  },
  {
   "cell_type": "code",
   "execution_count": 97,
   "id": "3d9d8ab7",
   "metadata": {},
   "outputs": [
    {
     "name": "stdout",
     "output_type": "stream",
     "text": [
      "Logistic Regression with accuracy: 0.4963666666666667\n",
      "Naive Bayes with accuracy: 0.4987333333333333\n",
      "K-Nearest Neighbours with accuracy: 0.49716666666666665\n",
      "Decision tree with accuracy: 0.4924\n"
     ]
    }
   ],
   "source": [
    "from sklearn.linear_model import LogisticRegression\n",
    "from sklearn.naive_bayes import GaussianNB\n",
    "from sklearn.neighbors import KNeighborsClassifier\n",
    "from sklearn.tree import DecisionTreeClassifier\n",
    "from sklearn.metrics import accuracy_score\n",
    "\n",
    "# Assuming you have your features (X) and labels (y) defined\n",
    "\n",
    "# Split the data into training and testing sets\n",
    "models = {\n",
    "    'Logistic Regression': LogisticRegression(),\n",
    "    'Naive Bayes': GaussianNB(),\n",
    "     'K-Nearest Neighbours': KNeighborsClassifier(),\n",
    "    'Decision tree': DecisionTreeClassifier(),\n",
    "}\n",
    "\n",
    "for name, model in models.items():\n",
    "    model.fit(X_train, y_train)\n",
    "    y_pred = model.predict(X_test)\n",
    "    accuracy = accuracy_score(y_test, y_pred)\n",
    "    print(f\"{name} with accuracy: {accuracy}\")"
   ]
  },
  {
   "cell_type": "markdown",
   "id": "cb1b0cb9",
   "metadata": {},
   "source": [
    "### Since all models have almost similiar accuracy and logistic model fits the outcome that I want for the problem statement so I am using Logistic model only which is a binary regression algorithm. and will give binary result for each customer, whether the customer will churn or not."
   ]
  },
  {
   "cell_type": "markdown",
   "id": "4f732a01",
   "metadata": {},
   "source": [
    "# Logistic regression model"
   ]
  },
  {
   "cell_type": "code",
   "execution_count": 98,
   "id": "c166f87c",
   "metadata": {},
   "outputs": [],
   "source": [
    "from sklearn.linear_model import LogisticRegression"
   ]
  },
  {
   "cell_type": "code",
   "execution_count": 99,
   "id": "c5c5500b",
   "metadata": {},
   "outputs": [
    {
     "data": {
      "text/plain": [
       "array([1, 0, 0, ..., 0, 0, 0], dtype=int64)"
      ]
     },
     "execution_count": 99,
     "metadata": {},
     "output_type": "execute_result"
    }
   ],
   "source": [
    "from sklearn.linear_model import LogisticRegression\n",
    "model = LogisticRegression()\n",
    "result = model.fit(X_train, y_train)\n",
    "model.predict(X_test)"
   ]
  },
  {
   "cell_type": "markdown",
   "id": "449fe8b5",
   "metadata": {},
   "source": [
    "## Metrices For Checking Accuracy Of Model"
   ]
  },
  {
   "cell_type": "code",
   "execution_count": 100,
   "id": "a7b6cf58",
   "metadata": {},
   "outputs": [
    {
     "name": "stdout",
     "output_type": "stream",
     "text": [
      "0.4963666666666667\n"
     ]
    }
   ],
   "source": [
    "from sklearn import metrics\n",
    "prediction_test = model.predict(X_test)\n",
    "# Print the prediction accuracy\n",
    "print (metrics.accuracy_score(y_test, prediction_test))"
   ]
  },
  {
   "cell_type": "code",
   "execution_count": 101,
   "id": "7de406ac",
   "metadata": {},
   "outputs": [
    {
     "name": "stdout",
     "output_type": "stream",
     "text": [
      "Accuracy: 0.496\n"
     ]
    }
   ],
   "source": [
    "from sklearn.metrics import accuracy_score\n",
    "print(\"Accuracy:\", round(accuracy_score(y_test, prediction_test), 3))"
   ]
  },
  {
   "cell_type": "code",
   "execution_count": 102,
   "id": "87b6c6ee",
   "metadata": {},
   "outputs": [
    {
     "name": "stdout",
     "output_type": "stream",
     "text": [
      "Precision: 0.491\n"
     ]
    }
   ],
   "source": [
    "from sklearn.metrics import precision_score\n",
    "precision = precision_score(y_test, prediction_test, average='binary')\n",
    "print('Precision: %.3f' % precision)"
   ]
  },
  {
   "cell_type": "markdown",
   "id": "463b1c1c",
   "metadata": {},
   "source": [
    "# Parameter Fine Tunning (Method 1)"
   ]
  },
  {
   "cell_type": "code",
   "execution_count": 103,
   "id": "1974b207",
   "metadata": {},
   "outputs": [],
   "source": [
    "from sklearn.model_selection import train_test_split, GridSearchCV"
   ]
  },
  {
   "cell_type": "code",
   "execution_count": 113,
   "id": "e53fce33",
   "metadata": {},
   "outputs": [
    {
     "name": "stdout",
     "output_type": "stream",
     "text": [
      "Best Hyperparameters: {'C': 1000.0, 'penalty': 'l1', 'solver': 'saga'}\n",
      "Test Accuracy: 0.49646666666666667\n"
     ]
    }
   ],
   "source": [
    "param_grid = {\n",
    "    'penalty': ['l1', 'l2'],\n",
    "    'C': np.logspace(-4, 4, 9),\n",
    "    'solver': ['liblinear', 'saga']\n",
    "}\n",
    "\n",
    "grid_search = GridSearchCV(estimator=model, param_grid=param_grid, cv=5, scoring='accuracy')\n",
    "grid_search.fit(X_train, y_train)\n",
    "\n",
    "# Get the best hyperparameters\n",
    "best_params = grid_search.best_params_\n",
    "best_model = grid_search.best_estimator_\n",
    "\n",
    "test_accuracy = best_model.score(X_test, y_test)\n",
    "\n",
    "print(\"Best Hyperparameters:\", best_params)\n",
    "print(\"Test Accuracy:\", test_accuracy)"
   ]
  },
  {
   "cell_type": "markdown",
   "id": "1ef029d4",
   "metadata": {},
   "source": [
    "## Checking Accuracy,Precision,Recall,F-1 Score"
   ]
  },
  {
   "cell_type": "code",
   "execution_count": 121,
   "id": "ee8d7b3e",
   "metadata": {},
   "outputs": [],
   "source": [
    "from sklearn.metrics import accuracy_score,precision_score,f1_score,recall_score"
   ]
  },
  {
   "cell_type": "code",
   "execution_count": 122,
   "id": "6dc3958a",
   "metadata": {},
   "outputs": [
    {
     "data": {
      "text/plain": [
       "0.4963666666666667"
      ]
     },
     "execution_count": 122,
     "metadata": {},
     "output_type": "execute_result"
    }
   ],
   "source": [
    "acc_score=accuracy_score(y_test,prediction_test)\n",
    "acc_score"
   ]
  },
  {
   "cell_type": "code",
   "execution_count": 123,
   "id": "9a598a92",
   "metadata": {},
   "outputs": [
    {
     "data": {
      "text/plain": [
       "0.49093747289914147"
      ]
     },
     "execution_count": 123,
     "metadata": {},
     "output_type": "execute_result"
    }
   ],
   "source": [
    "pre_score=precision_score(y_test,prediction_test)\n",
    "pre_score"
   ]
  },
  {
   "cell_type": "code",
   "execution_count": 124,
   "id": "f70edfff",
   "metadata": {},
   "outputs": [
    {
     "data": {
      "text/plain": [
       "0.37993288590604024"
      ]
     },
     "execution_count": 124,
     "metadata": {},
     "output_type": "execute_result"
    }
   ],
   "source": [
    "re_call=recall_score(y_test,prediction_test)\n",
    "re_call"
   ]
  },
  {
   "cell_type": "code",
   "execution_count": 125,
   "id": "bf90e0e0",
   "metadata": {},
   "outputs": [
    {
     "data": {
      "text/plain": [
       "0.42836063713064204"
      ]
     },
     "execution_count": 125,
     "metadata": {},
     "output_type": "execute_result"
    }
   ],
   "source": [
    "f1_score=2*pre_score*re_call/(pre_score+re_call)\n",
    "f1_score"
   ]
  },
  {
   "cell_type": "markdown",
   "id": "56bc724c",
   "metadata": {},
   "source": [
    "# Predicting by maually putting values"
   ]
  },
  {
   "cell_type": "code",
   "execution_count": 126,
   "id": "265ae21f",
   "metadata": {},
   "outputs": [
    {
     "name": "stderr",
     "output_type": "stream",
     "text": [
      "C:\\Users\\Lenovo\\anaconda3\\Lib\\site-packages\\sklearn\\base.py:464: UserWarning: X does not have valid feature names, but LogisticRegression was fitted with feature names\n",
      "  warnings.warn(\n"
     ]
    },
    {
     "data": {
      "text/plain": [
       "array([1], dtype=int64)"
      ]
     },
     "execution_count": 126,
     "metadata": {},
     "output_type": "execute_result"
    }
   ],
   "source": [
    "model.predict(np.array([63,1,2,17,73.36,236,13.88]).reshape(1,-1))"
   ]
  },
  {
   "cell_type": "markdown",
   "id": "6dc4c18e",
   "metadata": {},
   "source": [
    "#  Deploying The Model"
   ]
  },
  {
   "cell_type": "code",
   "execution_count": 127,
   "id": "b12da16d",
   "metadata": {},
   "outputs": [],
   "source": [
    "import pickle \n",
    "pickle.dump(model,open(\"C:/Users/Lenovo/OneDrive/Desktop/Churn_model.pkl\",'wb'))"
   ]
  }
 ],
 "metadata": {
  "kernelspec": {
   "display_name": "Python 3 (ipykernel)",
   "language": "python",
   "name": "python3"
  },
  "language_info": {
   "codemirror_mode": {
    "name": "ipython",
    "version": 3
   },
   "file_extension": ".py",
   "mimetype": "text/x-python",
   "name": "python",
   "nbconvert_exporter": "python",
   "pygments_lexer": "ipython3",
   "version": "3.11.4"
  }
 },
 "nbformat": 4,
 "nbformat_minor": 5
}
